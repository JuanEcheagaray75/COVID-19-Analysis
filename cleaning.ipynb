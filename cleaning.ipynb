{
 "cells": [
  {
   "cell_type": "markdown",
   "metadata": {},
   "source": [
    "# Data cleaning and preparation\n",
    "\n",
    "Juan Pablo Echeagaray González\n",
    "\n",
    "24/10/2021"
   ]
  },
  {
   "cell_type": "markdown",
   "metadata": {},
   "source": [
    "## Basic libraries"
   ]
  },
  {
   "cell_type": "code",
   "execution_count": 33,
   "metadata": {},
   "outputs": [],
   "source": [
    "import pandas as pd\n",
    "import numpy as np\n",
    "import matplotlib.pyplot as plt\n",
    "import seaborn as sns\n",
    "from zipfile import ZipFile"
   ]
  },
  {
   "cell_type": "markdown",
   "metadata": {},
   "source": [
    "## Data reading"
   ]
  },
  {
   "cell_type": "code",
   "execution_count": 34,
   "metadata": {},
   "outputs": [],
   "source": [
    "with ZipFile('data\\\\data.zip') as zip:\n",
    "    with zip.open(zip.namelist()[0]) as data:\n",
    "        df = pd.read_feather(data)"
   ]
  },
  {
   "cell_type": "markdown",
   "metadata": {},
   "source": [
    "## Database variables"
   ]
  },
  {
   "cell_type": "code",
   "execution_count": 35,
   "metadata": {},
   "outputs": [
    {
     "data": {
      "text/plain": [
       "Index(['FECHA_ACTUALIZACION', 'ID_REGISTRO', 'ORIGEN', 'SECTOR', 'ENTIDAD_UM',\n",
       "       'SEXO', 'ENTIDAD_NAC', 'ENTIDAD_RES', 'MUNICIPIO_RES', 'TIPO_PACIENTE',\n",
       "       'FECHA_INGRESO', 'FECHA_SINTOMAS', 'FECHA_DEF', 'INTUBADO', 'NEUMONIA',\n",
       "       'EDAD', 'NACIONALIDAD', 'EMBARAZO', 'HABLA_LENGUA_INDIG', 'INDIGENA',\n",
       "       'DIABETES', 'EPOC', 'ASMA', 'INMUSUPR', 'HIPERTENSION', 'OTRA_COM',\n",
       "       'CARDIOVASCULAR', 'OBESIDAD', 'RENAL_CRONICA', 'TABAQUISMO',\n",
       "       'OTRO_CASO', 'TOMA_MUESTRA_LAB', 'RESULTADO_LAB',\n",
       "       'TOMA_MUESTRA_ANTIGENO', 'RESULTADO_ANTIGENO', 'CLASIFICACION_FINAL',\n",
       "       'MIGRANTE', 'UCI'],\n",
       "      dtype='object')"
      ]
     },
     "execution_count": 35,
     "metadata": {},
     "output_type": "execute_result"
    }
   ],
   "source": [
    "df.columns"
   ]
  },
  {
   "cell_type": "markdown",
   "metadata": {},
   "source": [
    "First variables to test:\n",
    "\n",
    "1. Response variable: INTUBADO\n",
    "2. Basic tags:\n",
    "   1. SEXO\n",
    "   2. EDAD\n",
    "3. Respiratory illnesses:\n",
    "   1. NEUMONIA\n",
    "   2. EPOC\n",
    "   3. TABAQUISMO\n",
    "   4. ASMA\n",
    "4. Overweight related:\n",
    "   1. OBESIDAD\n",
    "   2. DIABETES\n",
    "   3. HIPERTENSION\n",
    "   4. CARDIOVASCULAR\n",
    "5. Extra conditions:\n",
    "   1. EMBARAZO\n",
    "   2. INMUSUPR\n",
    "   3. RENAL_CRONICA"
   ]
  },
  {
   "cell_type": "code",
   "execution_count": 36,
   "metadata": {},
   "outputs": [
    {
     "data": {
      "text/html": [
       "<div>\n",
       "<style scoped>\n",
       "    .dataframe tbody tr th:only-of-type {\n",
       "        vertical-align: middle;\n",
       "    }\n",
       "\n",
       "    .dataframe tbody tr th {\n",
       "        vertical-align: top;\n",
       "    }\n",
       "\n",
       "    .dataframe thead th {\n",
       "        text-align: right;\n",
       "    }\n",
       "</style>\n",
       "<table border=\"1\" class=\"dataframe\">\n",
       "  <thead>\n",
       "    <tr style=\"text-align: right;\">\n",
       "      <th></th>\n",
       "      <th>INTUBADO</th>\n",
       "      <th>SEXO</th>\n",
       "      <th>EDAD</th>\n",
       "      <th>NEUMONIA</th>\n",
       "      <th>EPOC</th>\n",
       "      <th>TABAQUISMO</th>\n",
       "      <th>ASMA</th>\n",
       "      <th>OBESIDAD</th>\n",
       "      <th>DIABETES</th>\n",
       "      <th>HIPERTENSION</th>\n",
       "      <th>CARDIOVASCULAR</th>\n",
       "      <th>EMBARAZO</th>\n",
       "      <th>INMUSUPR</th>\n",
       "      <th>RENAL_CRONICA</th>\n",
       "    </tr>\n",
       "  </thead>\n",
       "  <tbody>\n",
       "    <tr>\n",
       "      <th>0</th>\n",
       "      <td>97</td>\n",
       "      <td>2</td>\n",
       "      <td>41</td>\n",
       "      <td>2</td>\n",
       "      <td>2</td>\n",
       "      <td>2</td>\n",
       "      <td>2</td>\n",
       "      <td>2</td>\n",
       "      <td>2</td>\n",
       "      <td>2</td>\n",
       "      <td>2</td>\n",
       "      <td>97</td>\n",
       "      <td>2</td>\n",
       "      <td>2</td>\n",
       "    </tr>\n",
       "    <tr>\n",
       "      <th>1</th>\n",
       "      <td>1</td>\n",
       "      <td>1</td>\n",
       "      <td>66</td>\n",
       "      <td>1</td>\n",
       "      <td>2</td>\n",
       "      <td>2</td>\n",
       "      <td>2</td>\n",
       "      <td>1</td>\n",
       "      <td>1</td>\n",
       "      <td>1</td>\n",
       "      <td>2</td>\n",
       "      <td>2</td>\n",
       "      <td>2</td>\n",
       "      <td>2</td>\n",
       "    </tr>\n",
       "    <tr>\n",
       "      <th>2</th>\n",
       "      <td>97</td>\n",
       "      <td>2</td>\n",
       "      <td>29</td>\n",
       "      <td>2</td>\n",
       "      <td>2</td>\n",
       "      <td>2</td>\n",
       "      <td>2</td>\n",
       "      <td>98</td>\n",
       "      <td>2</td>\n",
       "      <td>2</td>\n",
       "      <td>2</td>\n",
       "      <td>97</td>\n",
       "      <td>2</td>\n",
       "      <td>2</td>\n",
       "    </tr>\n",
       "    <tr>\n",
       "      <th>3</th>\n",
       "      <td>97</td>\n",
       "      <td>1</td>\n",
       "      <td>40</td>\n",
       "      <td>2</td>\n",
       "      <td>2</td>\n",
       "      <td>2</td>\n",
       "      <td>2</td>\n",
       "      <td>2</td>\n",
       "      <td>2</td>\n",
       "      <td>2</td>\n",
       "      <td>2</td>\n",
       "      <td>98</td>\n",
       "      <td>2</td>\n",
       "      <td>2</td>\n",
       "    </tr>\n",
       "    <tr>\n",
       "      <th>4</th>\n",
       "      <td>97</td>\n",
       "      <td>2</td>\n",
       "      <td>34</td>\n",
       "      <td>2</td>\n",
       "      <td>1</td>\n",
       "      <td>2</td>\n",
       "      <td>1</td>\n",
       "      <td>2</td>\n",
       "      <td>2</td>\n",
       "      <td>2</td>\n",
       "      <td>2</td>\n",
       "      <td>97</td>\n",
       "      <td>2</td>\n",
       "      <td>2</td>\n",
       "    </tr>\n",
       "  </tbody>\n",
       "</table>\n",
       "</div>"
      ],
      "text/plain": [
       "   INTUBADO  SEXO  EDAD  NEUMONIA  EPOC  TABAQUISMO  ASMA  OBESIDAD  DIABETES  \\\n",
       "0        97     2    41         2     2           2     2         2         2   \n",
       "1         1     1    66         1     2           2     2         1         1   \n",
       "2        97     2    29         2     2           2     2        98         2   \n",
       "3        97     1    40         2     2           2     2         2         2   \n",
       "4        97     2    34         2     1           2     1         2         2   \n",
       "\n",
       "   HIPERTENSION  CARDIOVASCULAR  EMBARAZO  INMUSUPR  RENAL_CRONICA  \n",
       "0             2               2        97         2              2  \n",
       "1             1               2         2         2              2  \n",
       "2             2               2        97         2              2  \n",
       "3             2               2        98         2              2  \n",
       "4             2               2        97         2              2  "
      ]
     },
     "execution_count": 36,
     "metadata": {},
     "output_type": "execute_result"
    }
   ],
   "source": [
    "variables = ['INTUBADO', 'SEXO', 'EDAD', 'NEUMONIA', 'EPOC', 'TABAQUISMO', 'ASMA', 'OBESIDAD', 'DIABETES', 'HIPERTENSION', 'CARDIOVASCULAR',\n",
    "            'EMBARAZO', 'INMUSUPR', 'RENAL_CRONICA']\n",
    "df[variables].head()"
   ]
  },
  {
   "cell_type": "code",
   "execution_count": 37,
   "metadata": {},
   "outputs": [
    {
     "name": "stdout",
     "output_type": "stream",
     "text": [
      "-------------- \n",
      "97    10195291\n",
      "2       895840\n",
      "1       103601\n",
      "99       13209\n",
      "Name: INTUBADO, dtype: int64\n",
      "-------------- \n",
      "1    5879344\n",
      "2    5328597\n",
      "Name: SEXO, dtype: int64\n",
      "-------------- \n",
      "27     294318\n",
      "28     293574\n",
      "29     289453\n",
      "26     287918\n",
      "30     283160\n",
      "        ...  \n",
      "118        27\n",
      "117        25\n",
      "147         2\n",
      "148         1\n",
      "251         1\n",
      "Name: EDAD, Length: 125, dtype: int64\n",
      "-------------- \n",
      "2     10499024\n",
      "1       662380\n",
      "99       46537\n",
      "Name: NEUMONIA, dtype: int64\n",
      "-------------- \n",
      "2     11096681\n",
      "1        83865\n",
      "98       27395\n",
      "Name: EPOC, dtype: int64\n",
      "-------------- \n",
      "2     10380762\n",
      "1       798848\n",
      "98       28331\n",
      "Name: TABAQUISMO, dtype: int64\n",
      "-------------- \n",
      "2     10943720\n",
      "1       237147\n",
      "98       27074\n",
      "Name: ASMA, dtype: int64\n",
      "-------------- \n",
      "2     10074077\n",
      "1      1107275\n",
      "98       26589\n",
      "Name: OBESIDAD, dtype: int64\n",
      "-------------- \n",
      "2     10224285\n",
      "1       954359\n",
      "98       29297\n",
      "Name: DIABETES, dtype: int64\n",
      "-------------- \n",
      "2     9889235\n",
      "1     1291107\n",
      "98      27599\n",
      "Name: HIPERTENSION, dtype: int64\n",
      "-------------- \n",
      "2     11057320\n",
      "1       123253\n",
      "98       27368\n",
      "Name: CARDIOVASCULAR, dtype: int64\n",
      "-------------- \n",
      "2     5738803\n",
      "97    5328597\n",
      "1      103356\n",
      "98      37178\n",
      "99          7\n",
      "Name: EMBARAZO, dtype: int64\n",
      "-------------- \n",
      "2     11107297\n",
      "1        73015\n",
      "98       27629\n",
      "Name: INMUSUPR, dtype: int64\n",
      "-------------- \n",
      "2     11062321\n",
      "1       118493\n",
      "98       27127\n",
      "Name: RENAL_CRONICA, dtype: int64\n"
     ]
    }
   ],
   "source": [
    "for variable in variables:\n",
    "    print(f'''-------------- \\n{df[variable].value_counts()}''')"
   ]
  },
  {
   "cell_type": "markdown",
   "metadata": {},
   "source": [
    "## Data cleaning"
   ]
  },
  {
   "cell_type": "markdown",
   "metadata": {},
   "source": [
    "With this line we make sure that every male citizen that had an NA on the database for the variable pregnant, is now considered as non-pregnant. Simply dropping all those values would reduce in half our database"
   ]
  },
  {
   "cell_type": "code",
   "execution_count": 38,
   "metadata": {},
   "outputs": [],
   "source": [
    "df.loc[(df.SEXO == 2) & (df.EMBARAZO == 97), 'EMBARAZO'] = 2"
   ]
  },
  {
   "cell_type": "code",
   "execution_count": 39,
   "metadata": {},
   "outputs": [
    {
     "data": {
      "text/plain": [
       "'\\nI will not execute the following code until I get a response from the government, this might change completely how the\\nmodel will behave.\\n'"
      ]
     },
     "execution_count": 39,
     "metadata": {},
     "output_type": "execute_result"
    }
   ],
   "source": [
    "\"\"\"\n",
    "I will not execute the following code until I get a response from the government, this might change completely how the\n",
    "model will behave.\n",
    "\"\"\"\n",
    "# df.loc[df.INTUBADO == 97, 'INTUBADO'] = 2"
   ]
  },
  {
   "cell_type": "markdown",
   "metadata": {},
   "source": [
    "### Basic visualizations"
   ]
  },
  {
   "cell_type": "code",
   "execution_count": 40,
   "metadata": {},
   "outputs": [
    {
     "data": {
      "image/png": "[encoded data removed]",
      "text/plain": [
       "<Figure size 432x432 with 1 Axes>"
      ]
     },
     "metadata": {},
     "output_type": "display_data"
    }
   ],
   "source": [
    "sns.set_theme(style='darkgrid')\n",
    "labels = 'Males', 'Females'\n",
    "sizes = [df.loc[df['SEXO'] == 2].shape[0], df.loc[df['SEXO'] == 1].shape[0]]\n",
    "explode = (0.1, 0)\n",
    "fig1, ax1 = plt.subplots(figsize=(6, 6))\n",
    "ax1.pie(sizes, explode = explode, labels=labels, autopct='%1.1f%%', shadow=True, startangle=90, colors = ['#6499c6', '#e44c54'])\n",
    "plt.title(\"Males vs females\")\n",
    "plt.show()"
   ]
  },
  {
   "cell_type": "code",
   "execution_count": 41,
   "metadata": {},
   "outputs": [
    {
     "data": {
      "text/plain": [
       "<matplotlib.legend.Legend at 0x1df05cae580>"
      ]
     },
     "execution_count": 41,
     "metadata": {},
     "output_type": "execute_result"
    },
    {
     "data": {
      "image/png": "[encoded data removed]",
      "text/plain": [
       "<Figure size 864x504 with 1 Axes>"
      ]
     },
     "metadata": {},
     "output_type": "display_data"
    }
   ],
   "source": [
    "max_age = df['EDAD'].max()\n",
    "block = 5\n",
    "paleta_genero = sns.color_palette(\"Set1\", 2)\n",
    "fig, ax = plt.subplots(figsize=(12, 7))\n",
    "ax = sns.histplot(df, x = df['EDAD'], bins = max_age // block, hue = df['SEXO'], multiple = 'dodge', legend=False, palette = paleta_genero)\n",
    "plt.title('Age distribution by sex')\n",
    "labels = ['Males', 'Females']\n",
    "plt.legend(labels, loc='upper left')"
   ]
  },
  {
   "cell_type": "markdown",
   "metadata": {},
   "source": [
    "### \"NA\" removal"
   ]
  },
  {
   "cell_type": "markdown",
   "metadata": {},
   "source": [
    "Seaborn does not naturally generate histograms with wrong limits, so we have a lot of outlier values that we must either delete or conglomerate into a single value. I think I will set all ages above 100 to 101."
   ]
  },
  {
   "cell_type": "code",
   "execution_count": 42,
   "metadata": {},
   "outputs": [],
   "source": [
    "df['EDAD'].max()\n",
    "df['EDAD'] = np.where(df['EDAD'] > 100, 100, df['EDAD'])"
   ]
  },
  {
   "cell_type": "markdown",
   "metadata": {},
   "source": [
    "Now we repeat the same process, and we get a much nicer curve"
   ]
  },
  {
   "cell_type": "code",
   "execution_count": 43,
   "metadata": {},
   "outputs": [
    {
     "data": {
      "text/plain": [
       "<matplotlib.legend.Legend at 0x1df05d5f880>"
      ]
     },
     "execution_count": 43,
     "metadata": {},
     "output_type": "execute_result"
    },
    {
     "data": {
      "image/png": "[encoded data removed]",
      "text/plain": [
       "<Figure size 864x504 with 1 Axes>"
      ]
     },
     "metadata": {},
     "output_type": "display_data"
    }
   ],
   "source": [
    "max_age = df['EDAD'].max()\n",
    "block = 5\n",
    "paleta_genero = sns.color_palette(\"Set1\", 2)\n",
    "fig, ax = plt.subplots(figsize=(12, 7))\n",
    "ax = sns.histplot(df, x = df['EDAD'], bins = max_age // block, hue = df['SEXO'], multiple = 'dodge', legend=False, palette = paleta_genero)\n",
    "plt.title('Age distribution by sex')\n",
    "labels = ['Males', 'Females']\n",
    "plt.legend(labels, loc='upper left')"
   ]
  },
  {
   "cell_type": "markdown",
   "metadata": {},
   "source": [
    "Now we must clean all the other variables, lucky for us, they are all of the same type in the dictionary given. So the same rule will apply to all of them"
   ]
  },
  {
   "cell_type": "code",
   "execution_count": 44,
   "metadata": {},
   "outputs": [],
   "source": [
    "cat_si_no = [97, 98, 99]\n",
    "variables.remove('EDAD')\n",
    "for variable in variables:\n",
    "    df.drop(df[df[variable].isin(cat_si_no)].index, inplace=True)"
   ]
  },
  {
   "cell_type": "markdown",
   "metadata": {},
   "source": [
    "Let's see how much we reduced our database (and how long it took)"
   ]
  },
  {
   "cell_type": "code",
   "execution_count": 45,
   "metadata": {},
   "outputs": [
    {
     "name": "stdout",
     "output_type": "stream",
     "text": [
      "\n",
      "Original size = 11207941\n",
      "New size = 989740\n",
      "Proportion = 8.831%\n"
     ]
    }
   ],
   "source": [
    "original_size = 11_207_941\n",
    "new_size = df.shape[0]\n",
    "print(f'''\n",
    "Original size = {original_size}\n",
    "New size = {new_size}\n",
    "Proportion = {new_size / original_size * 100:.3f}%''')\n",
    "# We did not lose that much"
   ]
  },
  {
   "cell_type": "markdown",
   "metadata": {},
   "source": [
    "We have a very small data base of aproximately 9% of the original database size! Can we call it a sample? I don't think so"
   ]
  },
  {
   "cell_type": "markdown",
   "metadata": {},
   "source": [
    "Let's check again if our data is clean again"
   ]
  },
  {
   "cell_type": "code",
   "execution_count": 46,
   "metadata": {},
   "outputs": [
    {
     "name": "stdout",
     "output_type": "stream",
     "text": [
      "-------------- \n",
      "2    887712\n",
      "1    102028\n",
      "Name: INTUBADO, dtype: int64\n",
      "-------------- \n",
      "2    558887\n",
      "1    430853\n",
      "Name: SEXO, dtype: int64\n",
      "-------------- \n",
      "1    539942\n",
      "2    449798\n",
      "Name: NEUMONIA, dtype: int64\n",
      "-------------- \n",
      "2    953304\n",
      "1     36436\n",
      "Name: EPOC, dtype: int64\n",
      "-------------- \n",
      "2    916441\n",
      "1     73299\n",
      "Name: TABAQUISMO, dtype: int64\n",
      "-------------- \n",
      "2    969159\n",
      "1     20581\n",
      "Name: ASMA, dtype: int64\n",
      "-------------- \n",
      "2    818221\n",
      "1    171519\n",
      "Name: OBESIDAD, dtype: int64\n",
      "-------------- \n",
      "2    703067\n",
      "1    286673\n",
      "Name: DIABETES, dtype: int64\n",
      "-------------- \n",
      "2    654588\n",
      "1    335152\n",
      "Name: HIPERTENSION, dtype: int64\n",
      "-------------- \n",
      "2    942275\n",
      "1     47465\n",
      "Name: CARDIOVASCULAR, dtype: int64\n",
      "-------------- \n",
      "2    975829\n",
      "1     13911\n",
      "Name: EMBARAZO, dtype: int64\n",
      "-------------- \n",
      "2    962903\n",
      "1     26837\n",
      "Name: INMUSUPR, dtype: int64\n",
      "-------------- \n",
      "2    927506\n",
      "1     62234\n",
      "Name: RENAL_CRONICA, dtype: int64\n",
      "-------------- \n",
      "60     20731\n",
      "61     20707\n",
      "59     20398\n",
      "63     20272\n",
      "65     20225\n",
      "       ...  \n",
      "96       670\n",
      "97       443\n",
      "100      433\n",
      "98       365\n",
      "99       237\n",
      "Name: EDAD, Length: 101, dtype: int64\n"
     ]
    }
   ],
   "source": [
    "variables.append('EDAD')\n",
    "for variable in variables:\n",
    "    print(f'''-------------- \\n{df[variable].value_counts()}''')"
   ]
  },
  {
   "cell_type": "markdown",
   "metadata": {},
   "source": [
    "Let´s now reduce the range of 'EDAD' to [0, 1]"
   ]
  },
  {
   "cell_type": "code",
   "execution_count": 47,
   "metadata": {},
   "outputs": [
    {
     "data": {
      "text/plain": [
       "0.60    20731\n",
       "0.61    20707\n",
       "0.59    20398\n",
       "0.63    20272\n",
       "0.65    20225\n",
       "        ...  \n",
       "0.96      670\n",
       "0.97      443\n",
       "1.00      433\n",
       "0.98      365\n",
       "0.99      237\n",
       "Name: EDAD, Length: 101, dtype: int64"
      ]
     },
     "execution_count": 47,
     "metadata": {},
     "output_type": "execute_result"
    }
   ],
   "source": [
    "column = 'EDAD'\n",
    "df['EDAD'] = (df[column] - df[column].min()) / (df[column].max() - df[column].min())    \n",
    "df['EDAD'].value_counts()"
   ]
  },
  {
   "cell_type": "markdown",
   "metadata": {},
   "source": [
    "Now I will change the encoding of all the variables (except for 'EDAD') from 1 for positive and 2 for negative, to 1 for positive and 0 for negative. In the case of 'SEXO', 1 will represent females and 0 males"
   ]
  },
  {
   "cell_type": "code",
   "execution_count": 48,
   "metadata": {},
   "outputs": [],
   "source": [
    "df2 = df\n",
    "variables.remove('EDAD')\n",
    "for variable in variables:\n",
    "    df2[variable] = df2[variable].replace(to_replace=[1, 2], value=[1, 0])"
   ]
  },
  {
   "cell_type": "code",
   "execution_count": 49,
   "metadata": {},
   "outputs": [
    {
     "name": "stdout",
     "output_type": "stream",
     "text": [
      "-------------- \n",
      "0    887712\n",
      "1    102028\n",
      "Name: INTUBADO, dtype: int64\n",
      "-------------- \n",
      "0    558887\n",
      "1    430853\n",
      "Name: SEXO, dtype: int64\n",
      "-------------- \n",
      "1    539942\n",
      "0    449798\n",
      "Name: NEUMONIA, dtype: int64\n",
      "-------------- \n",
      "0    953304\n",
      "1     36436\n",
      "Name: EPOC, dtype: int64\n",
      "-------------- \n",
      "0    916441\n",
      "1     73299\n",
      "Name: TABAQUISMO, dtype: int64\n",
      "-------------- \n",
      "0    969159\n",
      "1     20581\n",
      "Name: ASMA, dtype: int64\n",
      "-------------- \n",
      "0    818221\n",
      "1    171519\n",
      "Name: OBESIDAD, dtype: int64\n",
      "-------------- \n",
      "0    703067\n",
      "1    286673\n",
      "Name: DIABETES, dtype: int64\n",
      "-------------- \n",
      "0    654588\n",
      "1    335152\n",
      "Name: HIPERTENSION, dtype: int64\n",
      "-------------- \n",
      "0    942275\n",
      "1     47465\n",
      "Name: CARDIOVASCULAR, dtype: int64\n",
      "-------------- \n",
      "0    975829\n",
      "1     13911\n",
      "Name: EMBARAZO, dtype: int64\n",
      "-------------- \n",
      "0    962903\n",
      "1     26837\n",
      "Name: INMUSUPR, dtype: int64\n",
      "-------------- \n",
      "0    927506\n",
      "1     62234\n",
      "Name: RENAL_CRONICA, dtype: int64\n",
      "-------------- \n",
      "0.60    20731\n",
      "0.61    20707\n",
      "0.59    20398\n",
      "0.63    20272\n",
      "0.65    20225\n",
      "        ...  \n",
      "0.96      670\n",
      "0.97      443\n",
      "1.00      433\n",
      "0.98      365\n",
      "0.99      237\n",
      "Name: EDAD, Length: 101, dtype: int64\n"
     ]
    }
   ],
   "source": [
    "variables.append('EDAD')\n",
    "for variable in variables:\n",
    "    print(f'''-------------- \\n{df2[variable].value_counts()}''')"
   ]
  },
  {
   "cell_type": "markdown",
   "metadata": {},
   "source": [
    "Now let's save this dataframe to a new file"
   ]
  },
  {
   "cell_type": "markdown",
   "metadata": {},
   "source": [
    "## Storing the cleaned data"
   ]
  },
  {
   "cell_type": "code",
   "execution_count": 50,
   "metadata": {},
   "outputs": [],
   "source": [
    "df = df2\n",
    "df.to_pickle('data\\\\clean_data.pkl')"
   ]
  }
 ],
 "metadata": {
  "interpreter": {
   "hash": "a78c4be66ba3b4a897c6e596b18611fdff70693afae29e50365a94a133cff73c"
  },
  "kernelspec": {
   "display_name": "Python 3.9.7 64-bit",
   "name": "python3"
  },
  "language_info": {
   "codemirror_mode": {
    "name": "ipython",
    "version": 3
   },
   "file_extension": ".py",
   "mimetype": "text/x-python",
   "name": "python",
   "nbconvert_exporter": "python",
   "pygments_lexer": "ipython3",
   "version": "3.9.7"
  },
  "orig_nbformat": 4
 },
 "nbformat": 4,
 "nbformat_minor": 2
}
